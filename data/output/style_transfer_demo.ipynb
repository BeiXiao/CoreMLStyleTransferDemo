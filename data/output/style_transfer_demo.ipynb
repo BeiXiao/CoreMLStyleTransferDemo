{
 "cells": [
  {
   "cell_type": "code",
   "execution_count": 30,
   "metadata": {},
   "outputs": [],
   "source": [
    "import turicreate as tc\n",
    "import mxnet as mx\n",
    "import numpy as np\n",
    "# setgup\n",
    "tc.config.set_num_gpus(-1)\n",
    "# Load the style and content images\n",
    "styles = tc.load_images('/input/style_transfer_data/style/')\n",
    "content = tc.load_images('/input/style_transfer_data/content/')"
   ]
  },
  {
   "cell_type": "code",
   "execution_count": 23,
   "metadata": {},
   "outputs": [
    {
     "data": {
      "text/html": [
       "<div style=\"max-height:1000px;max-width:1500px;overflow:auto;\"><table frame=\"box\" rules=\"cols\">\n",
       "    <tr>\n",
       "        <th style=\"padding-left: 1em; padding-right: 1em; text-align: center\">path</th>\n",
       "        <th style=\"padding-left: 1em; padding-right: 1em; text-align: center\">image</th>\n",
       "    </tr>\n",
       "    <tr>\n",
       "        <td style=\"padding-left: 1em; padding-right: 1em; text-align: center; vertical-align: top\">/input/style_transfer_dat<br>a/style/Flitter.jpg ...</td>\n",
       "        <td style=\"padding-left: 1em; padding-right: 1em; text-align: center; vertical-align: top\">Height: 851 Width: 564</td>\n",
       "    </tr>\n",
       "    <tr>\n",
       "        <td style=\"padding-left: 1em; padding-right: 1em; text-align: center; vertical-align: top\">/input/style_transfer_dat<br>a/style/GoldFluid.jpg ...</td>\n",
       "        <td style=\"padding-left: 1em; padding-right: 1em; text-align: center; vertical-align: top\">Height: 1068 Width: 564</td>\n",
       "    </tr>\n",
       "    <tr>\n",
       "        <td style=\"padding-left: 1em; padding-right: 1em; text-align: center; vertical-align: top\">/input/style_transfer_dat<br>a/style/Pigment.jpg ...</td>\n",
       "        <td style=\"padding-left: 1em; padding-right: 1em; text-align: center; vertical-align: top\">Height: 851 Width: 564</td>\n",
       "    </tr>\n",
       "    <tr>\n",
       "        <td style=\"padding-left: 1em; padding-right: 1em; text-align: center; vertical-align: top\">/input/style_transfer_dat<br>a/style/StarryNight.jpg ...</td>\n",
       "        <td style=\"padding-left: 1em; padding-right: 1em; text-align: center; vertical-align: top\">Height: 1014 Width: 1280</td>\n",
       "    </tr>\n",
       "    <tr>\n",
       "        <td style=\"padding-left: 1em; padding-right: 1em; text-align: center; vertical-align: top\">/input/style_transfer_dat<br>a/style/Ukiyoe.jpg ...</td>\n",
       "        <td style=\"padding-left: 1em; padding-right: 1em; text-align: center; vertical-align: top\">Height: 724 Width: 510</td>\n",
       "    </tr>\n",
       "</table>\n",
       "[5 rows x 2 columns]<br/>\n",
       "</div>"
      ],
      "text/plain": [
       "Columns:\n",
       "\tpath\tstr\n",
       "\timage\tImage\n",
       "\n",
       "Rows: 5\n",
       "\n",
       "Data:\n",
       "+-------------------------------+--------------------------+\n",
       "|              path             |          image           |\n",
       "+-------------------------------+--------------------------+\n",
       "| /input/style_transfer_data... |  Height: 851 Width: 564  |\n",
       "| /input/style_transfer_data... | Height: 1068 Width: 564  |\n",
       "| /input/style_transfer_data... |  Height: 851 Width: 564  |\n",
       "| /input/style_transfer_data... | Height: 1014 Width: 1280 |\n",
       "| /input/style_transfer_data... |  Height: 724 Width: 510  |\n",
       "+-------------------------------+--------------------------+\n",
       "[5 rows x 2 columns]"
      ]
     },
     "execution_count": 23,
     "metadata": {},
     "output_type": "execute_result"
    }
   ],
   "source": [
    "# show styles\n",
    "styles"
   ]
  },
  {
   "cell_type": "code",
   "execution_count": 24,
   "metadata": {
    "scrolled": true
   },
   "outputs": [
    {
     "data": {
      "text/html": [
       "<div style=\"max-height:1000px;max-width:1500px;overflow:auto;\"><table frame=\"box\" rules=\"cols\">\n",
       "    <tr>\n",
       "        <th style=\"padding-left: 1em; padding-right: 1em; text-align: center\">path</th>\n",
       "        <th style=\"padding-left: 1em; padding-right: 1em; text-align: center\">image</th>\n",
       "    </tr>\n",
       "    <tr>\n",
       "        <td style=\"padding-left: 1em; padding-right: 1em; text-align: center; vertical-align: top\">/input/style_transfer_dat<br>a/content/11.jpg ...</td>\n",
       "        <td style=\"padding-left: 1em; padding-right: 1em; text-align: center; vertical-align: top\">Height: 3772 Width: 5658</td>\n",
       "    </tr>\n",
       "    <tr>\n",
       "        <td style=\"padding-left: 1em; padding-right: 1em; text-align: center; vertical-align: top\">/input/style_transfer_dat<br>a/content/12.jpg ...</td>\n",
       "        <td style=\"padding-left: 1em; padding-right: 1em; text-align: center; vertical-align: top\">Height: 682 Width: 1024</td>\n",
       "    </tr>\n",
       "    <tr>\n",
       "        <td style=\"padding-left: 1em; padding-right: 1em; text-align: center; vertical-align: top\">/input/style_transfer_dat<br>a/content/14.jpg ...</td>\n",
       "        <td style=\"padding-left: 1em; padding-right: 1em; text-align: center; vertical-align: top\">Height: 619 Width: 1100</td>\n",
       "    </tr>\n",
       "    <tr>\n",
       "        <td style=\"padding-left: 1em; padding-right: 1em; text-align: center; vertical-align: top\">/input/style_transfer_dat<br>a/content/15.jpg ...</td>\n",
       "        <td style=\"padding-left: 1em; padding-right: 1em; text-align: center; vertical-align: top\">Height: 409 Width: 615</td>\n",
       "    </tr>\n",
       "    <tr>\n",
       "        <td style=\"padding-left: 1em; padding-right: 1em; text-align: center; vertical-align: top\">/input/style_transfer_dat<br>a/content/16.jpg ...</td>\n",
       "        <td style=\"padding-left: 1em; padding-right: 1em; text-align: center; vertical-align: top\">Height: 600 Width: 1060</td>\n",
       "    </tr>\n",
       "    <tr>\n",
       "        <td style=\"padding-left: 1em; padding-right: 1em; text-align: center; vertical-align: top\">/input/style_transfer_dat<br>a/content/17.jpg ...</td>\n",
       "        <td style=\"padding-left: 1em; padding-right: 1em; text-align: center; vertical-align: top\">Height: 536 Width: 858</td>\n",
       "    </tr>\n",
       "    <tr>\n",
       "        <td style=\"padding-left: 1em; padding-right: 1em; text-align: center; vertical-align: top\">/input/style_transfer_dat<br>a/content/19.jpg ...</td>\n",
       "        <td style=\"padding-left: 1em; padding-right: 1em; text-align: center; vertical-align: top\">Height: 683 Width: 1024</td>\n",
       "    </tr>\n",
       "    <tr>\n",
       "        <td style=\"padding-left: 1em; padding-right: 1em; text-align: center; vertical-align: top\">/input/style_transfer_dat<br>a/content/23.jpg ...</td>\n",
       "        <td style=\"padding-left: 1em; padding-right: 1em; text-align: center; vertical-align: top\">Height: 950 Width: 645</td>\n",
       "    </tr>\n",
       "    <tr>\n",
       "        <td style=\"padding-left: 1em; padding-right: 1em; text-align: center; vertical-align: top\">/input/style_transfer_dat<br>a/content/26.jpg ...</td>\n",
       "        <td style=\"padding-left: 1em; padding-right: 1em; text-align: center; vertical-align: top\">Height: 536 Width: 858</td>\n",
       "    </tr>\n",
       "    <tr>\n",
       "        <td style=\"padding-left: 1em; padding-right: 1em; text-align: center; vertical-align: top\">/input/style_transfer_dat<br>a/content/28.jpg ...</td>\n",
       "        <td style=\"padding-left: 1em; padding-right: 1em; text-align: center; vertical-align: top\">Height: 666 Width: 1000</td>\n",
       "    </tr>\n",
       "</table>\n",
       "[72 rows x 2 columns]<br/>Note: Only the head of the SFrame is printed.<br/>You can use print_rows(num_rows=m, num_columns=n) to print more rows and columns.\n",
       "</div>"
      ],
      "text/plain": [
       "Columns:\n",
       "\tpath\tstr\n",
       "\timage\tImage\n",
       "\n",
       "Rows: 72\n",
       "\n",
       "Data:\n",
       "+-------------------------------+--------------------------+\n",
       "|              path             |          image           |\n",
       "+-------------------------------+--------------------------+\n",
       "| /input/style_transfer_data... | Height: 3772 Width: 5658 |\n",
       "| /input/style_transfer_data... | Height: 682 Width: 1024  |\n",
       "| /input/style_transfer_data... | Height: 619 Width: 1100  |\n",
       "| /input/style_transfer_data... |  Height: 409 Width: 615  |\n",
       "| /input/style_transfer_data... | Height: 600 Width: 1060  |\n",
       "| /input/style_transfer_data... |  Height: 536 Width: 858  |\n",
       "| /input/style_transfer_data... | Height: 683 Width: 1024  |\n",
       "| /input/style_transfer_data... |  Height: 950 Width: 645  |\n",
       "| /input/style_transfer_data... |  Height: 536 Width: 858  |\n",
       "| /input/style_transfer_data... | Height: 666 Width: 1000  |\n",
       "+-------------------------------+--------------------------+\n",
       "[72 rows x 2 columns]\n",
       "Note: Only the head of the SFrame is printed.\n",
       "You can use print_rows(num_rows=m, num_columns=n) to print more rows and columns."
      ]
     },
     "execution_count": 24,
     "metadata": {},
     "output_type": "execute_result"
    }
   ],
   "source": [
    "# show content\n",
    "content"
   ]
  },
  {
   "cell_type": "code",
   "execution_count": 31,
   "metadata": {},
   "outputs": [
    {
     "name": "stdout",
     "output_type": "stream",
     "text": [
      "Using 'image' in style_dataset as feature column and using 'image' in content_dataset as feature column\n",
      "\n",
      "ERROR: Incomplete installation for leveraging GPUs for computations.\n",
      "Please make sure you have CUDA installed and run the following line in\n",
      "your terminal and try again:\n",
      "\n",
      "    pip uninstall -y mxnet && pip install mxnet-cu90==1.1.0\n",
      "\n",
      "Adjust 'cu90' depending on your CUDA version ('cu75' and 'cu80' are also available).\n",
      "You can also disable GPU usage altogether by invoking turicreate.config.set_num_gpus(0)\n"
     ]
    },
    {
     "ename": "SystemExit",
     "evalue": "1",
     "output_type": "error",
     "traceback": [
      "An exception has occurred, use %tb to see the full traceback.\n",
      "\u001b[0;31mSystemExit\u001b[0m\u001b[0;31m:\u001b[0m 1\n"
     ]
    }
   ],
   "source": [
    "# Create a StyleTransfer model\n",
    "model = tc.style_transfer.create(styles, content)\n",
    "# Load some test images\n",
    "test_images = tc.load_images('/input/style_transfer_data/test/')\n",
    "# Stylize the test images\n",
    "stylized_images = model.stylize(test_images)\n",
    "# Save the model for later use in Turi Create\n",
    "model.save('mymodel.model')\n",
    "\n",
    "# Export for use in Core ML\n",
    "model.export_coreml('MyStyleTransfer.mlmodel')"
   ]
  }
 ],
 "metadata": {
  "kernelspec": {
   "display_name": "Python 2",
   "language": "python",
   "name": "python2"
  },
  "language_info": {
   "codemirror_mode": {
    "name": "ipython",
    "version": 2
   },
   "file_extension": ".py",
   "mimetype": "text/x-python",
   "name": "python",
   "nbconvert_exporter": "python",
   "pygments_lexer": "ipython2",
   "version": "2.7.15"
  }
 },
 "nbformat": 4,
 "nbformat_minor": 2
}
